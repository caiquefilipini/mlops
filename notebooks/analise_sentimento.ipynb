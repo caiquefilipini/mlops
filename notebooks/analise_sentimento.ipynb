{
  "nbformat": 4,
  "nbformat_minor": 0,
  "metadata": {
    "colab": {
      "name": "analise-sentimento.ipynb",
      "provenance": [],
      "collapsed_sections": []
    },
    "kernelspec": {
      "name": "python3",
      "display_name": "Python 3"
    },
    "language_info": {
      "name": "python"
    }
  },
  "cells": [
    {
      "cell_type": "code",
      "metadata": {
        "id": "qjGdRiGAnil9"
      },
      "source": [
        "from textblob import TextBlob"
      ],
      "execution_count": null,
      "outputs": []
    },
    {
      "cell_type": "code",
      "metadata": {
        "id": "3JkP7IDYn8nS"
      },
      "source": [
        "frase = 'Python é ótimo para Machine Learning.'"
      ],
      "execution_count": null,
      "outputs": []
    },
    {
      "cell_type": "code",
      "metadata": {
        "id": "k0uyOc7-oMyB"
      },
      "source": [
        "tb = TextBlob(frase)"
      ],
      "execution_count": null,
      "outputs": []
    },
    {
      "cell_type": "code",
      "metadata": {
        "colab": {
          "base_uri": "https://localhost:8080/"
        },
        "id": "QtJETU-eoU5o",
        "outputId": "3d91f054-daae-4588-9aed-1ed9b44a040a"
      },
      "source": [
        "tb.sentiment.polarity"
      ],
      "execution_count": null,
      "outputs": [
        {
          "output_type": "execute_result",
          "data": {
            "text/plain": [
              "0.0"
            ]
          },
          "metadata": {
            "tags": []
          },
          "execution_count": 5
        }
      ]
    },
    {
      "cell_type": "code",
      "metadata": {
        "id": "StUsCoIioVUG"
      },
      "source": [
        "# .polarity vai de -1 (negativo) a 1 (positivo)\n",
        "# Mas retornou 0, ou seja, neutro\n",
        "# Isso é pq o tb não trabalha bem com português\n",
        "# Então, vamos traduzir para o inglês"
      ],
      "execution_count": null,
      "outputs": []
    },
    {
      "cell_type": "code",
      "metadata": {
        "id": "QwqNFcOioq4_"
      },
      "source": [
        "tb_en = tb.translate(to='en')"
      ],
      "execution_count": null,
      "outputs": []
    },
    {
      "cell_type": "code",
      "metadata": {
        "colab": {
          "base_uri": "https://localhost:8080/"
        },
        "id": "vdkL8YEYpDI1",
        "outputId": "5ab5fe8b-d438-4bf5-de96-790ba7458126"
      },
      "source": [
        "tb_en"
      ],
      "execution_count": null,
      "outputs": [
        {
          "output_type": "execute_result",
          "data": {
            "text/plain": [
              "TextBlob(\"Python is great for Machine Learning.\")"
            ]
          },
          "metadata": {
            "tags": []
          },
          "execution_count": 8
        }
      ]
    },
    {
      "cell_type": "code",
      "metadata": {
        "colab": {
          "base_uri": "https://localhost:8080/"
        },
        "id": "PnyIWXnfpDkb",
        "outputId": "ccade16a-e680-4e55-f065-8b8ab38b62ff"
      },
      "source": [
        "tb_en.sentiment.polarity"
      ],
      "execution_count": null,
      "outputs": [
        {
          "output_type": "execute_result",
          "data": {
            "text/plain": [
              "0.8"
            ]
          },
          "metadata": {
            "tags": []
          },
          "execution_count": 9
        }
      ]
    },
    {
      "cell_type": "code",
      "metadata": {
        "id": "3NBn-HYOpHBi"
      },
      "source": [
        "# Agora sim :)"
      ],
      "execution_count": null,
      "outputs": []
    }
  ]
}